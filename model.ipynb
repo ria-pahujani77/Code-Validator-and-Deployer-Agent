{
 "cells": [
  {
   "cell_type": "code",
   "execution_count": 1,
   "id": "c20b6b17",
   "metadata": {},
   "outputs": [],
   "source": [
    "import numpy as np\n",
    "from sklearn.datasets import load_iris\n",
    "from sklearn.model_selection import train_test_split\n",
    "from sklearn.linear_model import LogisticRegression\n",
    "from sklearn.metrics import (\n",
    "    accuracy_score,\n",
    "    precision_score,\n",
    "    recall_score,\n",
    "    f1_score,\n",
    "    roc_auc_score,\n",
    ")\n",
    "import matplotlib.pyplot as plt\n",
    "import seaborn as sns"
   ]
  },
  {
   "cell_type": "code",
   "execution_count": 2,
   "id": "5fcdf7ff",
   "metadata": {},
   "outputs": [
    {
     "name": "stdout",
     "output_type": "stream",
     "text": [
      "1. Loading the Iris dataset...\n",
      "Features (X) shape: (150, 4)\n",
      "Target (y) shape: (150,)\n",
      "Feature names: ['sepal length (cm)', 'sepal width (cm)', 'petal length (cm)', 'petal width (cm)']\n",
      "Target names: ['setosa' 'versicolor' 'virginica']\n",
      "\n",
      "Dataset description:\n",
      ".. _iris_dataset:\n",
      "\n",
      "Iris plants dataset\n",
      "--------------------\n",
      "\n",
      "**Data Set Characteristics:**\n",
      "\n",
      ":Number of Instances: 150 (50 in each of three classes)\n",
      ":Number of Attributes: 4 numeric, predictive attributes and the class\n",
      ":Attribute Information:\n",
      "    - sepal length in cm\n",
      "    - sepal width in cm\n",
      "    - petal length in cm\n",
      "    - petal width in cm\n",
      "    - class:\n",
      "            - Iris-Setosa\n",
      "            - Iris-Versicolour\n",
      "            - Iris-Virginica\n",
      "\n",
      ":Summary Statistics:\n",
      "\n",
      "============== ==== ==== ======= ===== ====================\n",
      "                Min  Max   Mean    SD   Class Correlation\n",
      "============== ==== ==== ======= ===== ====================\n",
      "sepal length:   4.3  7.9   5.84   0.83    0.7826\n",
      "sepal width:    2.0  4.4   3.05   0.43   -0.4194\n",
      "petal length:   1.0  6.9   3.76   1.76    0.9490  (high!)\n",
      "petal width:    0.1  2.5   1.20   0.76    0.9565  (high!)\n",
      "============== ==== ==== ======= ===== ====================\n",
      "\n",
      ":Missing Attribute Values: None\n",
      ":Class Distribution: 33.3% for each of 3 classes.\n",
      ":Creator: R.A. Fisher\n",
      ":Donor: Michael Marshall (MARSHALL%PLU@io.arc.nasa.gov)\n",
      ":Date: July, 1988\n",
      "\n",
      "The famous Iris database, first used by Sir R.A. Fisher. The dataset is taken\n",
      "from Fisher's paper. Note that it's the same as in R, but not as in the UCI\n",
      "Machine Learning Repository, which has two wrong data points.\n",
      "\n",
      "This is perhaps the best known database to be found in the\n",
      "pattern recognition literature.  Fisher's paper is a classic in the field and\n",
      "is referenced frequently to this day.  (See Duda & Hart, for example.)  The\n",
      "data set contains 3 classes of 50 instances each, where each class refers to a\n",
      "type of iris plant.  One class is linearly separable from the other 2; the\n",
      "latter are NOT linearly separable from each other.\n",
      "\n",
      ".. dropdown:: References\n",
      "\n",
      "  - Fisher, R.A. \"The use of multiple measurements in taxonomic problems\"\n",
      "    Annual Eugenics, 7, Part II, 179-188 (1936); also in \"Contributions to\n",
      "    Mathematical Statistics\" (John Wiley, NY, 1950).\n",
      "  - Duda, R.O., & Hart, P.E. (1973) Pattern Classification and Scene Analysis.\n",
      "    (Q327.D83) John Wiley & Sons.  ISBN 0-471-22361-1.  See page 218.\n",
      "  - Dasarathy, B.V. (1980) \"Nosing Around the Neighborhood: A New System\n",
      "    Structure and Classification Rule for Recognition in Partially Exposed\n",
      "    Environments\".  IEEE Transactions on Pattern Analysis and Machine\n",
      "    Intelligence, Vol. PAMI-2, No. 1, 67-71.\n",
      "  - Gates, G.W. (1972) \"The Reduced Nearest Neighbor Rule\".  IEEE Transactions\n",
      "    on Information Theory, May 1972, 431-433.\n",
      "  - See also: 1988 MLC Proceedings, 54-64.  Cheeseman et al\"s AUTOCLASS II\n",
      "    conceptual clustering system finds 3 classes in the data.\n",
      "  - Many, many more ...\n",
      "\n"
     ]
    }
   ],
   "source": [
    "print(\"1. Loading the Iris dataset...\")\n",
    "iris = load_iris()\n",
    "X = iris.data\n",
    "y = iris.target\n",
    "feature_names = iris.feature_names\n",
    "target_names = iris.target_names\n",
    "\n",
    "print(f\"Features (X) shape: {X.shape}\")\n",
    "print(f\"Target (y) shape: {y.shape}\")\n",
    "print(f\"Feature names: {feature_names}\")\n",
    "print(f\"Target names: {target_names}\")\n",
    "print(\"\\nDataset description:\")\n",
    "print(iris.DESCR)\n"
   ]
  },
  {
   "cell_type": "code",
   "execution_count": 3,
   "id": "6aa3537f",
   "metadata": {},
   "outputs": [
    {
     "name": "stdout",
     "output_type": "stream",
     "text": [
      "2. Splitting data into training and testing sets (80% train, 20% test)...\n",
      "X_train shape: (120, 4)\n",
      "X_test shape: (30, 4)\n",
      "y_train shape: (120,)\n",
      "y_test shape: (30,)\n"
     ]
    }
   ],
   "source": [
    "print(\"2. Splitting data into training and testing sets (80% train, 20% test)...\")\n",
    "X_train, X_test, y_train, y_test = train_test_split(\n",
    "    X, y, test_size=0.2, random_state=42, stratify=y\n",
    ") # stratify=y ensures equal distribution of classes in train/test sets\n",
    "\n",
    "print(f\"X_train shape: {X_train.shape}\")\n",
    "print(f\"X_test shape: {X_test.shape}\")\n",
    "print(f\"y_train shape: {y_train.shape}\")\n",
    "print(f\"y_test shape: {y_test.shape}\")"
   ]
  },
  {
   "cell_type": "code",
   "execution_count": 4,
   "id": "d68f3bbf",
   "metadata": {},
   "outputs": [
    {
     "name": "stdout",
     "output_type": "stream",
     "text": [
      "3. Training a Logistic Regression model...\n",
      "Model training complete.\n"
     ]
    }
   ],
   "source": [
    "print(\"3. Training a Logistic Regression model...\")\n",
    "# Increased max_iter for convergence on some datasets/sklearn versions\n",
    "# 'lbfgs' is a good default solver for multiclass problems\n",
    "model = LogisticRegression(max_iter=200, random_state=42, solver='lbfgs')\n",
    "model.fit(X_train, y_train)\n",
    "print(\"Model training complete.\")"
   ]
  },
  {
   "cell_type": "code",
   "execution_count": 5,
   "id": "73a6bcde",
   "metadata": {},
   "outputs": [
    {
     "name": "stdout",
     "output_type": "stream",
     "text": [
      "4. Making predictions on the test set...\n"
     ]
    }
   ],
   "source": [
    "print(\"4. Making predictions on the test set...\")\n",
    "y_pred = model.predict(X_test)\n",
    "y_proba = model.predict_proba(X_test)"
   ]
  },
  {
   "cell_type": "code",
   "execution_count": 6,
   "id": "914c98df",
   "metadata": {},
   "outputs": [
    {
     "name": "stdout",
     "output_type": "stream",
     "text": [
      "5. Classification Metrics:\n",
      "Accuracy Score: 0.9667\n",
      "Precision (Weighted): 0.9697\n",
      "Recall (Weighted): 0.9667\n",
      "F1-Score (Weighted): 0.9666\n"
     ]
    }
   ],
   "source": [
    "print(\"5. Classification Metrics:\")\n",
    "# A. Accuracy Score\n",
    "accuracy = accuracy_score(y_test, y_pred)\n",
    "print(f\"Accuracy Score: {accuracy:.4f}\")\n",
    "precision = precision_score(y_test, y_pred, average='macro')\n",
    "print(f\"Precision (Weighted): {precision:.4f}\")\n",
    "\n",
    "# Recall (weighted average)\n",
    "recall = recall_score(y_test, y_pred, average='macro')\n",
    "print(f\"Recall (Weighted): {recall:.4f}\")\n",
    "\n",
    "# F1-Score (weighted average)\n",
    "f1 = f1_score(y_test, y_pred, average='macro')\n",
    "print(f\"F1-Score (Weighted): {f1:.4f}\")"
   ]
  },
  {
   "cell_type": "code",
   "execution_count": 7,
   "id": "82cfb262",
   "metadata": {},
   "outputs": [],
   "source": [
    "#commit again"
   ]
  },
  {
   "cell_type": "code",
   "execution_count": 8,
   "id": "28334450",
   "metadata": {},
   "outputs": [],
   "source": [
    "#can you see this comment?"
   ]
  },
  {
   "cell_type": "code",
   "execution_count": 1,
   "id": "ead5950a",
   "metadata": {},
   "outputs": [],
   "source": [
    "#this is a new commit made at eleventh commit"
   ]
  },
  {
   "cell_type": "code",
   "execution_count": null,
   "id": "92468e76",
   "metadata": {},
   "outputs": [],
   "source": [
    "# first comment"
   ]
  },
  {
   "cell_type": "code",
   "execution_count": 2,
   "id": "d53762cc",
   "metadata": {},
   "outputs": [],
   "source": [
    "# second comment"
   ]
  },
  {
   "cell_type": "code",
   "execution_count": 3,
   "id": "121e4ba2",
   "metadata": {},
   "outputs": [],
   "source": [
    "# third comment"
   ]
  },
  {
   "cell_type": "code",
   "execution_count": 4,
   "id": "5c814858",
   "metadata": {},
   "outputs": [],
   "source": [
    "# fourth comment"
   ]
  },
  {
   "cell_type": "code",
   "execution_count": 5,
   "id": "844222fb",
   "metadata": {},
   "outputs": [],
   "source": [
    "# fifth comment"
   ]
  },
  {
   "cell_type": "code",
   "execution_count": 6,
   "id": "200408de",
   "metadata": {},
   "outputs": [],
   "source": [
    "# sixth comment"
   ]
  }
 ],
 "metadata": {
  "kernelspec": {
   "display_name": "Python 3",
   "language": "python",
   "name": "python3"
  },
  "language_info": {
   "codemirror_mode": {
    "name": "ipython",
    "version": 3
   },
   "file_extension": ".py",
   "mimetype": "text/x-python",
   "name": "python",
   "nbconvert_exporter": "python",
   "pygments_lexer": "ipython3",
   "version": "3.12.0"
  }
 },
 "nbformat": 4,
 "nbformat_minor": 5
}
